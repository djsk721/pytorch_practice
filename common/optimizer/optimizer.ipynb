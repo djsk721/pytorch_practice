{
 "cells": [
  {
   "attachments": {},
   "cell_type": "markdown",
   "metadata": {},
   "source": [
    "# 최적화(Optimizing)"
   ]
  },
  {
   "attachments": {},
   "cell_type": "markdown",
   "metadata": {},
   "source": [
    "### 매개변수에 대한 오류의 도함수를 수집한 뒤 경사하강법을 사용하여 이 파라미터들을 최적화한다."
   ]
  },
  {
   "cell_type": "code",
   "execution_count": 1,
   "metadata": {},
   "outputs": [
    {
     "name": "stdout",
     "output_type": "stream",
     "text": [
      "Downloading http://fashion-mnist.s3-website.eu-central-1.amazonaws.com/train-images-idx3-ubyte.gz\n",
      "Downloading http://fashion-mnist.s3-website.eu-central-1.amazonaws.com/train-images-idx3-ubyte.gz to data\\FashionMNIST\\raw\\train-images-idx3-ubyte.gz\n"
     ]
    },
    {
     "name": "stderr",
     "output_type": "stream",
     "text": [
      "100.0%\n"
     ]
    },
    {
     "name": "stdout",
     "output_type": "stream",
     "text": [
      "Extracting data\\FashionMNIST\\raw\\train-images-idx3-ubyte.gz to data\\FashionMNIST\\raw\n",
      "\n",
      "Downloading http://fashion-mnist.s3-website.eu-central-1.amazonaws.com/train-labels-idx1-ubyte.gz\n",
      "Downloading http://fashion-mnist.s3-website.eu-central-1.amazonaws.com/train-labels-idx1-ubyte.gz to data\\FashionMNIST\\raw\\train-labels-idx1-ubyte.gz\n"
     ]
    },
    {
     "name": "stderr",
     "output_type": "stream",
     "text": [
      "100.0%\n"
     ]
    },
    {
     "name": "stdout",
     "output_type": "stream",
     "text": [
      "Extracting data\\FashionMNIST\\raw\\train-labels-idx1-ubyte.gz to data\\FashionMNIST\\raw\n",
      "\n",
      "Downloading http://fashion-mnist.s3-website.eu-central-1.amazonaws.com/t10k-images-idx3-ubyte.gz\n",
      "Downloading http://fashion-mnist.s3-website.eu-central-1.amazonaws.com/t10k-images-idx3-ubyte.gz to data\\FashionMNIST\\raw\\t10k-images-idx3-ubyte.gz\n"
     ]
    },
    {
     "name": "stderr",
     "output_type": "stream",
     "text": [
      "100.0%\n"
     ]
    },
    {
     "name": "stdout",
     "output_type": "stream",
     "text": [
      "Extracting data\\FashionMNIST\\raw\\t10k-images-idx3-ubyte.gz to data\\FashionMNIST\\raw\n",
      "\n",
      "Downloading http://fashion-mnist.s3-website.eu-central-1.amazonaws.com/t10k-labels-idx1-ubyte.gz\n",
      "Downloading http://fashion-mnist.s3-website.eu-central-1.amazonaws.com/t10k-labels-idx1-ubyte.gz to data\\FashionMNIST\\raw\\t10k-labels-idx1-ubyte.gz\n"
     ]
    },
    {
     "name": "stderr",
     "output_type": "stream",
     "text": [
      "100.0%"
     ]
    },
    {
     "name": "stdout",
     "output_type": "stream",
     "text": [
      "Extracting data\\FashionMNIST\\raw\\t10k-labels-idx1-ubyte.gz to data\\FashionMNIST\\raw\n",
      "\n"
     ]
    },
    {
     "name": "stderr",
     "output_type": "stream",
     "text": [
      "\n"
     ]
    }
   ],
   "source": [
    "# 기본 코드\n",
    "import torch\n",
    "from torch import nn\n",
    "from torch.utils.data import DataLoader\n",
    "from torchvision import datasets\n",
    "from torchvision.transforms import ToTensor\n",
    "\n",
    "training_data = datasets.FashionMNIST(\n",
    "    root=\"data\",\n",
    "    train=True,\n",
    "    download=True,\n",
    "    transform=ToTensor()\n",
    ")\n",
    "\n",
    "test_data = datasets.FashionMNIST(\n",
    "    root=\"data\",\n",
    "    train=False,\n",
    "    download=True,\n",
    "    transform=ToTensor()\n",
    ")\n",
    "\n",
    "train_dataloader = DataLoader(training_data, batch_size=64)\n",
    "test_dataloader = DataLoader(test_data, batch_size=64)\n",
    "\n",
    "class NeuralNetwork(nn.Module):\n",
    "    def __init__(self):\n",
    "        super(NeuralNetwork, self).__init__()\n",
    "        self.flatten = nn.Flatten()\n",
    "        self.linear_relu_stack = nn.Sequential(\n",
    "            nn.Linear(28*28, 512),\n",
    "            nn.ReLU(),\n",
    "            nn.Linear(512, 512),\n",
    "            nn.ReLU(),\n",
    "            nn.Linear(512, 10),\n",
    "        )\n",
    "\n",
    "    def forward(self, x):\n",
    "        x = self.flatten(x)\n",
    "        logits = self.linear_relu_stack(x)\n",
    "        return logits\n",
    "\n",
    "model = NeuralNetwork()"
   ]
  },
  {
   "attachments": {},
   "cell_type": "markdown",
   "metadata": {},
   "source": [
    "# 하이퍼 파라미터란?\n",
    "-   모델 최적화 과정을 제어할 수 있는 조절 가능한 매개변수이다.\n",
    "-   서로 다른 하이퍼파라미터 값은 모델 학습과 수렴율(convergence rate)에 영향을 미친다.\n",
    "\n",
    "### 학습 시 다음과 같은 하이퍼 파라미터를 정의\n",
    "-   에폭(epoch) 수 - 데이터셋을 반복하는 횟수\n",
    "-   배치 크기(batch size) - 매개변수가 갱신되기 전 신경망을 통해 전파된 데이터 샘플의 수\n",
    "-   학습률(learning rate) - 각 배치/에폭에서 모델의 매개변수를 조절하는 비율. 값이 작을수록 학습 속도가 느려지고, 값이 크면 학습 중 예측할 수 없는 동작이 발생할 수 있습니다."
   ]
  },
  {
   "cell_type": "code",
   "execution_count": 2,
   "metadata": {},
   "outputs": [],
   "source": [
    "learning_rate = 1e-3    # 학습률\n",
    "batch_size = 64         # 배치 크기\n",
    "epochs = 5              # 에폭 수"
   ]
  },
  {
   "attachments": {},
   "cell_type": "markdown",
   "metadata": {},
   "source": [
    "# 최적화 단계(Optimization Loop)"
   ]
  },
  {
   "attachments": {},
   "cell_type": "markdown",
   "metadata": {},
   "source": [
    "-   학습 단계(train loop) - 설정한 에폭만큼 학습용 데이터셋을 반복(iterate)하고 최적의 매개변수로 수렴합니다.\n",
    "\n",
    "-   검증/테스트 단계(validation/test loop) - 모델 성능이 개선되고 있는지를 확인하기 위해 테스트 데이터셋을 반복(iterate)합니다."
   ]
  },
  {
   "attachments": {},
   "cell_type": "markdown",
   "metadata": {},
   "source": [
    "# 손실 함수(loss function)"
   ]
  },
  {
   "attachments": {},
   "cell_type": "markdown",
   "metadata": {},
   "source": [
    "-   손실 함수는 획득한 결과를 실제 값 사이의 틀린 정도를 측정하며, 학습 중에 이 값을 최소화하려고 한다.\n",
    "-   주어진 데이터 샘플을 입력으로 계산한 예측과 정답(label)을 비교하여 손실(loss)을 계산한다.\n",
    "-   일반적인 손실함수\n",
    "    - 회귀 문제(regression task)에 사용하는 nn.MSELoss(평균 제곱 오차(MSE; Mean Square Error))\n",
    "    - 분류(Classification)에 사용하는 nn.NLLLoss(음의 로그 우도(Negative Log Likelihood))\n",
    "    - nn.LogSoftmax와 nn.NLLLoss를 합친 nn.CrossEntropyLoss"
   ]
  },
  {
   "cell_type": "code",
   "execution_count": 3,
   "metadata": {},
   "outputs": [],
   "source": [
    "# 손실 함수를 초기화합니다.\n",
    "loss_fn = nn.CrossEntropyLoss()"
   ]
  },
  {
   "attachments": {},
   "cell_type": "markdown",
   "metadata": {},
   "source": [
    "# 옵티마이저(Optimizer)\n",
    "\n",
    "-   각 학습 단계에서 모델의 오류를 줄이기 위해 모델 매개변수를 조정하는 과정\n",
    "-   학습하려는 모델의 매개변수와 학습률(learning rate) 하이퍼파라미터를 등록하여 옵티마이저를 초기화한다.\n",
    "\n",
    "### 학습 단계(loop)에서 최적화는 세 단계로 이뤄진다.\n",
    "-   optimizer.zero_grad() 를 호출하여 모델 매개변수의 기울기를 재설정. 반복할 때마다 명시적으로 0으로 설정\n",
    "-   loss.backwards()를 호출하여 예측 손실(prediction loss)을 역전파\n",
    "-   기울기를 계산한 뒤에는 optimizer.step()을 호출하여 역전파 단계에서 수집된 변화도로 매개변수를 조정"
   ]
  },
  {
   "cell_type": "code",
   "execution_count": 4,
   "metadata": {},
   "outputs": [],
   "source": [
    "# 전체 코드\n",
    "def train_loop(dataloader, model, loss_fn, optimizer):\n",
    "    size = len(dataloader.dataset)\n",
    "    for batch, (X, y) in enumerate(dataloader):\n",
    "        # 예측(prediction)과 손실(loss) 계산\n",
    "        pred = model(X)\n",
    "        loss = loss_fn(pred, y)\n",
    "\n",
    "        # 역전파\n",
    "        optimizer.zero_grad()\n",
    "        loss.backward()\n",
    "        optimizer.step()\n",
    "\n",
    "        if batch % 100 == 0:\n",
    "            loss, current = loss.item(), batch * len(X)\n",
    "            print(f\"loss: {loss:>7f}  [{current:>5d}/{size:>5d}]\")\n",
    "\n",
    "\n",
    "def test_loop(dataloader, model, loss_fn):\n",
    "    size = len(dataloader.dataset)\n",
    "    num_batches = len(dataloader)\n",
    "    test_loss, correct = 0, 0\n",
    "\n",
    "    with torch.no_grad():\n",
    "        for X, y in dataloader:\n",
    "            pred = model(X)\n",
    "            test_loss += loss_fn(pred, y).item()\n",
    "            correct += (pred.argmax(1) == y).type(torch.float).sum().item()\n",
    "\n",
    "    test_loss /= num_batches\n",
    "    correct /= size\n",
    "    print(f\"Test Error: \\n Accuracy: {(100*correct):>0.1f}%, Avg loss: {test_loss:>8f} \\n\")"
   ]
  },
  {
   "cell_type": "code",
   "execution_count": 5,
   "metadata": {},
   "outputs": [
    {
     "name": "stdout",
     "output_type": "stream",
     "text": [
      "Epoch 1\n",
      "-------------------------------\n",
      "loss: 2.301246  [    0/60000]\n",
      "loss: 2.295998  [ 6400/60000]\n",
      "loss: 2.276614  [12800/60000]\n",
      "loss: 2.277495  [19200/60000]\n",
      "loss: 2.247110  [25600/60000]\n",
      "loss: 2.220206  [32000/60000]\n",
      "loss: 2.243629  [38400/60000]\n",
      "loss: 2.201876  [44800/60000]\n",
      "loss: 2.199673  [51200/60000]\n",
      "loss: 2.171570  [57600/60000]\n",
      "Test Error: \n",
      " Accuracy: 23.9%, Avg loss: 2.165757 \n",
      "\n",
      "Epoch 2\n",
      "-------------------------------\n",
      "loss: 2.173832  [    0/60000]\n",
      "loss: 2.167004  [ 6400/60000]\n",
      "loss: 2.112972  [12800/60000]\n",
      "loss: 2.134125  [19200/60000]\n",
      "loss: 2.067040  [25600/60000]\n",
      "loss: 2.018750  [32000/60000]\n",
      "loss: 2.061383  [38400/60000]\n",
      "loss: 1.976409  [44800/60000]\n",
      "loss: 1.986856  [51200/60000]\n",
      "loss: 1.914358  [57600/60000]\n",
      "Test Error: \n",
      " Accuracy: 51.1%, Avg loss: 1.910256 \n",
      "\n",
      "Epoch 3\n",
      "-------------------------------\n",
      "loss: 1.941555  [    0/60000]\n",
      "loss: 1.913023  [ 6400/60000]\n",
      "loss: 1.800709  [12800/60000]\n",
      "loss: 1.843728  [19200/60000]\n",
      "loss: 1.714069  [25600/60000]\n",
      "loss: 1.675406  [32000/60000]\n",
      "loss: 1.714623  [38400/60000]\n",
      "loss: 1.601592  [44800/60000]\n",
      "loss: 1.633082  [51200/60000]\n",
      "loss: 1.530159  [57600/60000]\n",
      "Test Error: \n",
      " Accuracy: 60.5%, Avg loss: 1.539683 \n",
      "\n",
      "Epoch 4\n",
      "-------------------------------\n",
      "loss: 1.604093  [    0/60000]\n",
      "loss: 1.568369  [ 6400/60000]\n",
      "loss: 1.421468  [12800/60000]\n",
      "loss: 1.490802  [19200/60000]\n",
      "loss: 1.358718  [25600/60000]\n",
      "loss: 1.362149  [32000/60000]\n",
      "loss: 1.389359  [38400/60000]\n",
      "loss: 1.299985  [44800/60000]\n",
      "loss: 1.338342  [51200/60000]\n",
      "loss: 1.246606  [57600/60000]\n",
      "Test Error: \n",
      " Accuracy: 63.2%, Avg loss: 1.262538 \n",
      "\n",
      "Epoch 5\n",
      "-------------------------------\n",
      "loss: 1.337163  [    0/60000]\n",
      "loss: 1.319632  [ 6400/60000]\n",
      "loss: 1.158073  [12800/60000]\n",
      "loss: 1.258240  [19200/60000]\n",
      "loss: 1.129767  [25600/60000]\n",
      "loss: 1.156940  [32000/60000]\n",
      "loss: 1.190211  [38400/60000]\n",
      "loss: 1.115281  [44800/60000]\n",
      "loss: 1.156762  [51200/60000]\n",
      "loss: 1.083462  [57600/60000]\n",
      "Test Error: \n",
      " Accuracy: 64.4%, Avg loss: 1.093383 \n",
      "\n",
      "Epoch 6\n",
      "-------------------------------\n",
      "loss: 1.160300  [    0/60000]\n",
      "loss: 1.165070  [ 6400/60000]\n",
      "loss: 0.988518  [12800/60000]\n",
      "loss: 1.117561  [19200/60000]\n",
      "loss: 0.990609  [25600/60000]\n",
      "loss: 1.019886  [32000/60000]\n",
      "loss: 1.068836  [38400/60000]\n",
      "loss: 0.999516  [44800/60000]\n",
      "loss: 1.041045  [51200/60000]\n",
      "loss: 0.983305  [57600/60000]\n",
      "Test Error: \n",
      " Accuracy: 65.6%, Avg loss: 0.985575 \n",
      "\n",
      "Epoch 7\n",
      "-------------------------------\n",
      "loss: 1.039310  [    0/60000]\n",
      "loss: 1.066252  [ 6400/60000]\n",
      "loss: 0.873253  [12800/60000]\n",
      "loss: 1.025655  [19200/60000]\n",
      "loss: 0.902902  [25600/60000]\n",
      "loss: 0.923519  [32000/60000]\n",
      "loss: 0.989080  [38400/60000]\n",
      "loss: 0.923743  [44800/60000]\n",
      "loss: 0.961502  [51200/60000]\n",
      "loss: 0.916283  [57600/60000]\n",
      "Test Error: \n",
      " Accuracy: 67.0%, Avg loss: 0.912078 \n",
      "\n",
      "Epoch 8\n",
      "-------------------------------\n",
      "loss: 0.950964  [    0/60000]\n",
      "loss: 0.997740  [ 6400/60000]\n",
      "loss: 0.790396  [12800/60000]\n",
      "loss: 0.961313  [19200/60000]\n",
      "loss: 0.843365  [25600/60000]\n",
      "loss: 0.852856  [32000/60000]\n",
      "loss: 0.932326  [38400/60000]\n",
      "loss: 0.872439  [44800/60000]\n",
      "loss: 0.903901  [51200/60000]\n",
      "loss: 0.867525  [57600/60000]\n",
      "Test Error: \n",
      " Accuracy: 68.3%, Avg loss: 0.858721 \n",
      "\n",
      "Epoch 9\n",
      "-------------------------------\n",
      "loss: 0.883140  [    0/60000]\n",
      "loss: 0.945753  [ 6400/60000]\n",
      "loss: 0.727716  [12800/60000]\n",
      "loss: 0.913347  [19200/60000]\n",
      "loss: 0.800077  [25600/60000]\n",
      "loss: 0.799593  [32000/60000]\n",
      "loss: 0.888904  [38400/60000]\n",
      "loss: 0.836203  [44800/60000]\n",
      "loss: 0.860417  [51200/60000]\n",
      "loss: 0.829634  [57600/60000]\n",
      "Test Error: \n",
      " Accuracy: 69.8%, Avg loss: 0.817928 \n",
      "\n",
      "Epoch 10\n",
      "-------------------------------\n",
      "loss: 0.828864  [    0/60000]\n",
      "loss: 0.903567  [ 6400/60000]\n",
      "loss: 0.678412  [12800/60000]\n",
      "loss: 0.876079  [19200/60000]\n",
      "loss: 0.766811  [25600/60000]\n",
      "loss: 0.758618  [32000/60000]\n",
      "loss: 0.853661  [38400/60000]\n",
      "loss: 0.809217  [44800/60000]\n",
      "loss: 0.826338  [51200/60000]\n",
      "loss: 0.798743  [57600/60000]\n",
      "Test Error: \n",
      " Accuracy: 71.2%, Avg loss: 0.785291 \n",
      "\n",
      "Done!\n"
     ]
    }
   ],
   "source": [
    "loss_fn = nn.CrossEntropyLoss()\n",
    "optimizer = torch.optim.SGD(model.parameters(), lr=learning_rate)\n",
    "\n",
    "epochs = 10\n",
    "for t in range(epochs):\n",
    "    print(f\"Epoch {t+1}\\n-------------------------------\")\n",
    "    train_loop(train_dataloader, model, loss_fn, optimizer)\n",
    "    test_loop(test_dataloader, model, loss_fn)\n",
    "print(\"Done!\")"
   ]
  }
 ],
 "metadata": {
  "kernelspec": {
   "display_name": "pytorch_practice",
   "language": "python",
   "name": "python3"
  },
  "language_info": {
   "codemirror_mode": {
    "name": "ipython",
    "version": 3
   },
   "file_extension": ".py",
   "mimetype": "text/x-python",
   "name": "python",
   "nbconvert_exporter": "python",
   "pygments_lexer": "ipython3",
   "version": "3.8.10"
  },
  "orig_nbformat": 4,
  "vscode": {
   "interpreter": {
    "hash": "bec884793e722188830e2368a860f43c511541d0c2a75aea5e9314e17690de0d"
   }
  }
 },
 "nbformat": 4,
 "nbformat_minor": 2
}
